{
 "cells": [
  {
   "cell_type": "code",
   "execution_count": 14,
   "metadata": {},
   "outputs": [],
   "source": [
    "from ast import Del\n",
    "from calendar import month, week\n",
    "from datetime import timedelta\n",
    "from tkinter import NS\n",
    "import numpy as np\n",
    "import random\n",
    "import matplotlib.pyplot as plt\n",
    "from utils.payoff_function import maturity_payoff,quarterly_payoff\n",
    "from utils.simulation_function import SimMultiGBMAV\n",
    "from utils.extract_data_function import extract_data\n",
    "from utils.counting_days_function import days\n",
    "from dateutil.relativedelta import relativedelta"
   ]
  },
  {
   "cell_type": "markdown",
   "metadata": {},
   "source": [
    "## Antithetic Variance Reduction Simulation"
   ]
  },
  {
   "cell_type": "code",
   "execution_count": 16,
   "metadata": {},
   "outputs": [
    {
     "name": "stderr",
     "output_type": "stream",
     "text": [
      "/Users/siuu/dev/CZ4518-Simulation-in-Finance/python/utils/extract_data_function.py:6: FutureWarning: The default value of regex will change from True to False in a future version. In addition, single character regular expressions will *not* be treated as literal strings when regex=True.\n",
      "  data['Close/Last']=data['Close/Last'].str.replace('$','')\n",
      "/Users/siuu/dev/CZ4518-Simulation-in-Finance/python/utils/extract_data_function.py:6: FutureWarning: The default value of regex will change from True to False in a future version. In addition, single character regular expressions will *not* be treated as literal strings when regex=True.\n",
      "  data['Close/Last']=data['Close/Last'].str.replace('$','')\n",
      "/Users/siuu/dev/CZ4518-Simulation-in-Finance/python/utils/extract_data_function.py:6: FutureWarning: The default value of regex will change from True to False in a future version. In addition, single character regular expressions will *not* be treated as literal strings when regex=True.\n",
      "  data['Close/Last']=data['Close/Last'].str.replace('$','')\n"
     ]
    }
   ],
   "source": [
    "date_to_predict,hist_end,end_date,q2_to_maturity,q3_to_maturity,q2,q3,total_trading_days,holidays = days(latest_price_date='2022-10-24')\n",
    "\n",
    "trading_days_to_simulate = total_trading_days\n",
    "\n",
    "predicted_option_price = []\n",
    "expected_payoff_maturity = []\n",
    "\n",
    "while date_to_predict<=end_date:\n",
    "    \n",
    "    if date_to_predict in holidays or date_to_predict.weekday()==5 or date_to_predict.weekday()==6:\n",
    "        continue\n",
    "\n",
    "    hist_start = hist_end - timedelta(days=365)\n",
    "\n",
    "    aapl = extract_data('../data/24-10-2022/aapl.csv',hist_start,hist_end).rename(columns={'Close/Last':'AAPL'})\n",
    "    amzn = extract_data('../data/24-10-2022/amzn.csv',hist_start,hist_end).rename(columns={'Close/Last':'AMZN'})\n",
    "    googl = extract_data('../data/24-10-2022/googl.csv',hist_start,hist_end).rename(columns={'Close/Last':'GOOGL'})\n",
    "    temp_df = aapl.merge(amzn,on=['Date'])\n",
    "    AAG = temp_df.merge(googl,on=['Date'])\n",
    "    n0 = len(AAG)\n",
    "    AAGprices = np.array(AAG.drop(columns=['Date']))\n",
    "    AAGlogprices = np.log(AAGprices)\n",
    "    AAGlogreturns = AAGlogprices[:n0-1,:] - AAGlogprices[1:,:]\n",
    "\n",
    "    v = np.reshape(np.mean(AAGlogreturns,axis=0),(3,1))\n",
    "    sigma = np.cov(AAGlogreturns,rowvar=False)\n",
    "    Nsim=2500\n",
    "    T=trading_days_to_simulate\n",
    "    dt=1\n",
    "    m=int(T/dt)\n",
    "    r=0.04716\n",
    "\n",
    "\n",
    "    S0=AAGprices[0,:]\n",
    "    S1=np.zeros((Nsim,m+1))\n",
    "    S2=np.zeros((Nsim,m+1))\n",
    "    S3=np.zeros((Nsim,m+1))\n",
    "    random.seed(4518)\n",
    "\n",
    "    for i in range(1,Nsim+1):\n",
    "        S,Stilde=SimMultiGBMAV(S0,v,sigma,dt,T)\n",
    "        S1[i-1:i,:] = S[0:1,:]\n",
    "        S1[Nsim+i:Nsim+i+1,:] = Stilde[0:1,:]\n",
    "        S2[i-1:i,:] = S[1:2,:]\n",
    "        S2[Nsim+i:Nsim+i+1,:] = Stilde[1:2,:]\n",
    "        S3[i-1:i,:] = S[2:3,:]\n",
    "        S3[Nsim+i:Nsim+i+1,:] = Stilde[2:3,:]\n",
    "\n",
    "    # S1 = EMS(S1,dt,r)\n",
    "    # S2 = EMS(S2,dt,r)\n",
    "    # S3 = EMS(S3,dt,r)\n",
    "\n",
    "    payoff_maturity = []\n",
    "    payoff_q2 = []\n",
    "    payoff_q3 = []\n",
    "\n",
    "        \n",
    "\n",
    "    for i in range(0,Nsim):\n",
    "        payoff_maturity.append(maturity_payoff(aapl=S1[i,:],amzn=S2[i,:],googl=S3[i,:]))\n",
    "\n",
    "        # if cur_date<q2:\n",
    "        #     payoff_q2.append(quarterly_payoff(S1[i,:len(S1[i,:])-q2_to_maturity],S2[i,:len(S2[i,:])-q2_to_maturity],S3[i,:len(S3[i,:])-q2_to_maturity],2))\n",
    "\n",
    "        # if cur_date<q3:\n",
    "        #     payoff_q3.append(quarterly_payoff(S1[i,:len(S1[i,:])-q3_to_maturity],S2[i,:len(S2[i,:])-q3_to_maturity],S3[i,:len(S3[i,:])-q3_to_maturity],3))\n",
    "    \n",
    "    \n",
    "    cur_expected_payoff = np.mean(payoff_maturity)\n",
    "    expected_payoff_maturity.append(cur_expected_payoff)\n",
    "\n",
    "    #TODO Apply regression to find the coefficient for each payoff\n",
    "    # option_price = np.exp(-r*(trading_days_to_predict/total_trading_days))*cur_expected_payoff*w_1 + np.exp(-r/2)*np.mean(payoff_q2)*w_2 + np.exp(-r*3/4)*np.mean(payoff_q3)*w_3\n",
    "    option_price = np.exp(-r*(trading_days_to_simulate/total_trading_days))*cur_expected_payoff\n",
    "    predicted_option_price.append(option_price)\n",
    "\n",
    "    date_to_predict = date_to_predict + relativedelta(days=+1)\n",
    "    trading_days_to_simulate-=1\n",
    "\n",
    "print(\"Variance of expected payoff: \"+str(np.var(expected_payoff_maturity)))\n",
    "plt_1 = plt.figure(figsize=(30,10))\n",
    "plt.plot(predicted_option_price)"
   ]
  },
  {
   "cell_type": "code",
   "execution_count": null,
   "metadata": {},
   "outputs": [],
   "source": []
  }
 ],
 "metadata": {
  "kernelspec": {
   "display_name": "Python 3.9.13 ('CZ4032')",
   "language": "python",
   "name": "python3"
  },
  "language_info": {
   "codemirror_mode": {
    "name": "ipython",
    "version": 3
   },
   "file_extension": ".py",
   "mimetype": "text/x-python",
   "name": "python",
   "nbconvert_exporter": "python",
   "pygments_lexer": "ipython3",
   "version": "3.9.13"
  },
  "orig_nbformat": 4,
  "vscode": {
   "interpreter": {
    "hash": "b9b27be08e48c29322755f0251eb5614d5a17160f46797c7e1b02e0b37e09a34"
   }
  }
 },
 "nbformat": 4,
 "nbformat_minor": 2
}
